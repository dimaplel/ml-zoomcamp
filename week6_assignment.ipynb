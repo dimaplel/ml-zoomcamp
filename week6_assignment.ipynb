{
 "cells": [
  {
   "cell_type": "code",
   "execution_count": 1,
   "id": "3c9f8446",
   "metadata": {},
   "outputs": [],
   "source": [
    "data = \"https://raw.githubusercontent.com/alexeygrigorev/datasets/master/housing.csv\""
   ]
  },
  {
   "cell_type": "code",
   "execution_count": 2,
   "id": "19054749",
   "metadata": {},
   "outputs": [],
   "source": [
    "import numpy as np\n",
    "import pandas as pd\n",
    "import matplotlib.pyplot as plt"
   ]
  },
  {
   "cell_type": "code",
   "execution_count": 3,
   "id": "92c373f4",
   "metadata": {},
   "outputs": [
    {
     "name": "stdout",
     "output_type": "stream",
     "text": [
      "\n",
      "Saved under data-6.csv\n"
     ]
    }
   ],
   "source": [
    "!python -m wget $data -o data-6.csv"
   ]
  },
  {
   "cell_type": "code",
   "execution_count": 5,
   "id": "981e0764",
   "metadata": {},
   "outputs": [
    {
     "data": {
      "text/html": [
       "<div>\n",
       "<style scoped>\n",
       "    .dataframe tbody tr th:only-of-type {\n",
       "        vertical-align: middle;\n",
       "    }\n",
       "\n",
       "    .dataframe tbody tr th {\n",
       "        vertical-align: top;\n",
       "    }\n",
       "\n",
       "    .dataframe thead th {\n",
       "        text-align: right;\n",
       "    }\n",
       "</style>\n",
       "<table border=\"1\" class=\"dataframe\">\n",
       "  <thead>\n",
       "    <tr style=\"text-align: right;\">\n",
       "      <th></th>\n",
       "      <th>longitude</th>\n",
       "      <th>latitude</th>\n",
       "      <th>housing_median_age</th>\n",
       "      <th>total_rooms</th>\n",
       "      <th>total_bedrooms</th>\n",
       "      <th>population</th>\n",
       "      <th>households</th>\n",
       "      <th>median_income</th>\n",
       "      <th>median_house_value</th>\n",
       "      <th>ocean_proximity</th>\n",
       "    </tr>\n",
       "  </thead>\n",
       "  <tbody>\n",
       "    <tr>\n",
       "      <th>0</th>\n",
       "      <td>-122.23</td>\n",
       "      <td>37.88</td>\n",
       "      <td>41.0</td>\n",
       "      <td>880.0</td>\n",
       "      <td>129.0</td>\n",
       "      <td>322.0</td>\n",
       "      <td>126.0</td>\n",
       "      <td>8.3252</td>\n",
       "      <td>452600.0</td>\n",
       "      <td>NEAR BAY</td>\n",
       "    </tr>\n",
       "    <tr>\n",
       "      <th>1</th>\n",
       "      <td>-122.22</td>\n",
       "      <td>37.86</td>\n",
       "      <td>21.0</td>\n",
       "      <td>7099.0</td>\n",
       "      <td>1106.0</td>\n",
       "      <td>2401.0</td>\n",
       "      <td>1138.0</td>\n",
       "      <td>8.3014</td>\n",
       "      <td>358500.0</td>\n",
       "      <td>NEAR BAY</td>\n",
       "    </tr>\n",
       "    <tr>\n",
       "      <th>2</th>\n",
       "      <td>-122.24</td>\n",
       "      <td>37.85</td>\n",
       "      <td>52.0</td>\n",
       "      <td>1467.0</td>\n",
       "      <td>190.0</td>\n",
       "      <td>496.0</td>\n",
       "      <td>177.0</td>\n",
       "      <td>7.2574</td>\n",
       "      <td>352100.0</td>\n",
       "      <td>NEAR BAY</td>\n",
       "    </tr>\n",
       "    <tr>\n",
       "      <th>3</th>\n",
       "      <td>-122.25</td>\n",
       "      <td>37.85</td>\n",
       "      <td>52.0</td>\n",
       "      <td>1274.0</td>\n",
       "      <td>235.0</td>\n",
       "      <td>558.0</td>\n",
       "      <td>219.0</td>\n",
       "      <td>5.6431</td>\n",
       "      <td>341300.0</td>\n",
       "      <td>NEAR BAY</td>\n",
       "    </tr>\n",
       "    <tr>\n",
       "      <th>4</th>\n",
       "      <td>-122.25</td>\n",
       "      <td>37.85</td>\n",
       "      <td>52.0</td>\n",
       "      <td>1627.0</td>\n",
       "      <td>280.0</td>\n",
       "      <td>565.0</td>\n",
       "      <td>259.0</td>\n",
       "      <td>3.8462</td>\n",
       "      <td>342200.0</td>\n",
       "      <td>NEAR BAY</td>\n",
       "    </tr>\n",
       "  </tbody>\n",
       "</table>\n",
       "</div>"
      ],
      "text/plain": [
       "   longitude  latitude  housing_median_age  total_rooms  total_bedrooms  \\\n",
       "0    -122.23     37.88                41.0        880.0           129.0   \n",
       "1    -122.22     37.86                21.0       7099.0          1106.0   \n",
       "2    -122.24     37.85                52.0       1467.0           190.0   \n",
       "3    -122.25     37.85                52.0       1274.0           235.0   \n",
       "4    -122.25     37.85                52.0       1627.0           280.0   \n",
       "\n",
       "   population  households  median_income  median_house_value ocean_proximity  \n",
       "0       322.0       126.0         8.3252            452600.0        NEAR BAY  \n",
       "1      2401.0      1138.0         8.3014            358500.0        NEAR BAY  \n",
       "2       496.0       177.0         7.2574            352100.0        NEAR BAY  \n",
       "3       558.0       219.0         5.6431            341300.0        NEAR BAY  \n",
       "4       565.0       259.0         3.8462            342200.0        NEAR BAY  "
      ]
     },
     "execution_count": 5,
     "metadata": {},
     "output_type": "execute_result"
    }
   ],
   "source": [
    "df = pd.read_csv(\"data-6.csv\")\n",
    "df.head()"
   ]
  },
  {
   "cell_type": "code",
   "execution_count": 6,
   "id": "c15e3170",
   "metadata": {},
   "outputs": [
    {
     "data": {
      "text/html": [
       "<div>\n",
       "<style scoped>\n",
       "    .dataframe tbody tr th:only-of-type {\n",
       "        vertical-align: middle;\n",
       "    }\n",
       "\n",
       "    .dataframe tbody tr th {\n",
       "        vertical-align: top;\n",
       "    }\n",
       "\n",
       "    .dataframe thead th {\n",
       "        text-align: right;\n",
       "    }\n",
       "</style>\n",
       "<table border=\"1\" class=\"dataframe\">\n",
       "  <thead>\n",
       "    <tr style=\"text-align: right;\">\n",
       "      <th></th>\n",
       "      <th>longitude</th>\n",
       "      <th>latitude</th>\n",
       "      <th>housing_median_age</th>\n",
       "      <th>total_rooms</th>\n",
       "      <th>total_bedrooms</th>\n",
       "      <th>population</th>\n",
       "      <th>households</th>\n",
       "      <th>median_income</th>\n",
       "      <th>median_house_value</th>\n",
       "      <th>ocean_proximity</th>\n",
       "    </tr>\n",
       "  </thead>\n",
       "  <tbody>\n",
       "    <tr>\n",
       "      <th>701</th>\n",
       "      <td>-121.97</td>\n",
       "      <td>37.64</td>\n",
       "      <td>32.0</td>\n",
       "      <td>1283.0</td>\n",
       "      <td>194.0</td>\n",
       "      <td>485.0</td>\n",
       "      <td>171.0</td>\n",
       "      <td>6.0574</td>\n",
       "      <td>431000.0</td>\n",
       "      <td>&lt;1H OCEAN</td>\n",
       "    </tr>\n",
       "    <tr>\n",
       "      <th>830</th>\n",
       "      <td>-121.99</td>\n",
       "      <td>37.61</td>\n",
       "      <td>9.0</td>\n",
       "      <td>3666.0</td>\n",
       "      <td>711.0</td>\n",
       "      <td>2341.0</td>\n",
       "      <td>703.0</td>\n",
       "      <td>4.6458</td>\n",
       "      <td>217000.0</td>\n",
       "      <td>&lt;1H OCEAN</td>\n",
       "    </tr>\n",
       "    <tr>\n",
       "      <th>859</th>\n",
       "      <td>-121.97</td>\n",
       "      <td>37.57</td>\n",
       "      <td>21.0</td>\n",
       "      <td>4342.0</td>\n",
       "      <td>783.0</td>\n",
       "      <td>2172.0</td>\n",
       "      <td>789.0</td>\n",
       "      <td>4.6146</td>\n",
       "      <td>247600.0</td>\n",
       "      <td>&lt;1H OCEAN</td>\n",
       "    </tr>\n",
       "    <tr>\n",
       "      <th>860</th>\n",
       "      <td>-121.96</td>\n",
       "      <td>37.58</td>\n",
       "      <td>15.0</td>\n",
       "      <td>3575.0</td>\n",
       "      <td>597.0</td>\n",
       "      <td>1777.0</td>\n",
       "      <td>559.0</td>\n",
       "      <td>5.7192</td>\n",
       "      <td>283500.0</td>\n",
       "      <td>&lt;1H OCEAN</td>\n",
       "    </tr>\n",
       "    <tr>\n",
       "      <th>861</th>\n",
       "      <td>-121.98</td>\n",
       "      <td>37.58</td>\n",
       "      <td>20.0</td>\n",
       "      <td>4126.0</td>\n",
       "      <td>1031.0</td>\n",
       "      <td>2079.0</td>\n",
       "      <td>975.0</td>\n",
       "      <td>3.6832</td>\n",
       "      <td>216900.0</td>\n",
       "      <td>&lt;1H OCEAN</td>\n",
       "    </tr>\n",
       "  </tbody>\n",
       "</table>\n",
       "</div>"
      ],
      "text/plain": [
       "     longitude  latitude  housing_median_age  total_rooms  total_bedrooms  \\\n",
       "701    -121.97     37.64                32.0       1283.0           194.0   \n",
       "830    -121.99     37.61                 9.0       3666.0           711.0   \n",
       "859    -121.97     37.57                21.0       4342.0           783.0   \n",
       "860    -121.96     37.58                15.0       3575.0           597.0   \n",
       "861    -121.98     37.58                20.0       4126.0          1031.0   \n",
       "\n",
       "     population  households  median_income  median_house_value ocean_proximity  \n",
       "701       485.0       171.0         6.0574            431000.0       <1H OCEAN  \n",
       "830      2341.0       703.0         4.6458            217000.0       <1H OCEAN  \n",
       "859      2172.0       789.0         4.6146            247600.0       <1H OCEAN  \n",
       "860      1777.0       559.0         5.7192            283500.0       <1H OCEAN  \n",
       "861      2079.0       975.0         3.6832            216900.0       <1H OCEAN  "
      ]
     },
     "execution_count": 6,
     "metadata": {},
     "output_type": "execute_result"
    }
   ],
   "source": [
    "df = df[(df['ocean_proximity'] == '<1H OCEAN') | (df['ocean_proximity'] == 'INLAND')]\n",
    "df.head()"
   ]
  },
  {
   "cell_type": "code",
   "execution_count": 7,
   "id": "d9225725",
   "metadata": {},
   "outputs": [
    {
     "data": {
      "text/html": [
       "<div>\n",
       "<style scoped>\n",
       "    .dataframe tbody tr th:only-of-type {\n",
       "        vertical-align: middle;\n",
       "    }\n",
       "\n",
       "    .dataframe tbody tr th {\n",
       "        vertical-align: top;\n",
       "    }\n",
       "\n",
       "    .dataframe thead th {\n",
       "        text-align: right;\n",
       "    }\n",
       "</style>\n",
       "<table border=\"1\" class=\"dataframe\">\n",
       "  <thead>\n",
       "    <tr style=\"text-align: right;\">\n",
       "      <th></th>\n",
       "      <th>longitude</th>\n",
       "      <th>latitude</th>\n",
       "      <th>housing_median_age</th>\n",
       "      <th>total_rooms</th>\n",
       "      <th>total_bedrooms</th>\n",
       "      <th>population</th>\n",
       "      <th>households</th>\n",
       "      <th>median_income</th>\n",
       "      <th>median_house_value</th>\n",
       "      <th>ocean_proximity</th>\n",
       "    </tr>\n",
       "  </thead>\n",
       "  <tbody>\n",
       "    <tr>\n",
       "      <th>0</th>\n",
       "      <td>-121.97</td>\n",
       "      <td>37.64</td>\n",
       "      <td>32.0</td>\n",
       "      <td>1283.0</td>\n",
       "      <td>194.0</td>\n",
       "      <td>485.0</td>\n",
       "      <td>171.0</td>\n",
       "      <td>6.0574</td>\n",
       "      <td>431000.0</td>\n",
       "      <td>&lt;1H OCEAN</td>\n",
       "    </tr>\n",
       "    <tr>\n",
       "      <th>1</th>\n",
       "      <td>-121.99</td>\n",
       "      <td>37.61</td>\n",
       "      <td>9.0</td>\n",
       "      <td>3666.0</td>\n",
       "      <td>711.0</td>\n",
       "      <td>2341.0</td>\n",
       "      <td>703.0</td>\n",
       "      <td>4.6458</td>\n",
       "      <td>217000.0</td>\n",
       "      <td>&lt;1H OCEAN</td>\n",
       "    </tr>\n",
       "    <tr>\n",
       "      <th>2</th>\n",
       "      <td>-121.97</td>\n",
       "      <td>37.57</td>\n",
       "      <td>21.0</td>\n",
       "      <td>4342.0</td>\n",
       "      <td>783.0</td>\n",
       "      <td>2172.0</td>\n",
       "      <td>789.0</td>\n",
       "      <td>4.6146</td>\n",
       "      <td>247600.0</td>\n",
       "      <td>&lt;1H OCEAN</td>\n",
       "    </tr>\n",
       "    <tr>\n",
       "      <th>3</th>\n",
       "      <td>-121.96</td>\n",
       "      <td>37.58</td>\n",
       "      <td>15.0</td>\n",
       "      <td>3575.0</td>\n",
       "      <td>597.0</td>\n",
       "      <td>1777.0</td>\n",
       "      <td>559.0</td>\n",
       "      <td>5.7192</td>\n",
       "      <td>283500.0</td>\n",
       "      <td>&lt;1H OCEAN</td>\n",
       "    </tr>\n",
       "    <tr>\n",
       "      <th>4</th>\n",
       "      <td>-121.98</td>\n",
       "      <td>37.58</td>\n",
       "      <td>20.0</td>\n",
       "      <td>4126.0</td>\n",
       "      <td>1031.0</td>\n",
       "      <td>2079.0</td>\n",
       "      <td>975.0</td>\n",
       "      <td>3.6832</td>\n",
       "      <td>216900.0</td>\n",
       "      <td>&lt;1H OCEAN</td>\n",
       "    </tr>\n",
       "  </tbody>\n",
       "</table>\n",
       "</div>"
      ],
      "text/plain": [
       "   longitude  latitude  housing_median_age  total_rooms  total_bedrooms  \\\n",
       "0    -121.97     37.64                32.0       1283.0           194.0   \n",
       "1    -121.99     37.61                 9.0       3666.0           711.0   \n",
       "2    -121.97     37.57                21.0       4342.0           783.0   \n",
       "3    -121.96     37.58                15.0       3575.0           597.0   \n",
       "4    -121.98     37.58                20.0       4126.0          1031.0   \n",
       "\n",
       "   population  households  median_income  median_house_value ocean_proximity  \n",
       "0       485.0       171.0         6.0574            431000.0       <1H OCEAN  \n",
       "1      2341.0       703.0         4.6458            217000.0       <1H OCEAN  \n",
       "2      2172.0       789.0         4.6146            247600.0       <1H OCEAN  \n",
       "3      1777.0       559.0         5.7192            283500.0       <1H OCEAN  \n",
       "4      2079.0       975.0         3.6832            216900.0       <1H OCEAN  "
      ]
     },
     "execution_count": 7,
     "metadata": {},
     "output_type": "execute_result"
    }
   ],
   "source": [
    "df = df.reset_index(drop=True)\n",
    "df.head()"
   ]
  },
  {
   "cell_type": "code",
   "execution_count": 9,
   "id": "3ca599a6",
   "metadata": {},
   "outputs": [
    {
     "data": {
      "text/plain": [
       "ocean_proximity\n",
       "<1H OCEAN    9136\n",
       "INLAND       6551\n",
       "Name: count, dtype: int64"
      ]
     },
     "execution_count": 9,
     "metadata": {},
     "output_type": "execute_result"
    }
   ],
   "source": [
    "df['ocean_proximity'].value_counts()"
   ]
  },
  {
   "cell_type": "code",
   "execution_count": 11,
   "id": "55369317",
   "metadata": {},
   "outputs": [
    {
     "data": {
      "text/plain": [
       "longitude               0\n",
       "latitude                0\n",
       "housing_median_age      0\n",
       "total_rooms             0\n",
       "total_bedrooms        157\n",
       "population              0\n",
       "households              0\n",
       "median_income           0\n",
       "median_house_value      0\n",
       "ocean_proximity         0\n",
       "dtype: int64"
      ]
     },
     "execution_count": 11,
     "metadata": {},
     "output_type": "execute_result"
    }
   ],
   "source": [
    "df.isnull().sum()"
   ]
  },
  {
   "cell_type": "code",
   "execution_count": 12,
   "id": "2dfad2bf",
   "metadata": {},
   "outputs": [
    {
     "data": {
      "text/plain": [
       "longitude             0\n",
       "latitude              0\n",
       "housing_median_age    0\n",
       "total_rooms           0\n",
       "total_bedrooms        0\n",
       "population            0\n",
       "households            0\n",
       "median_income         0\n",
       "median_house_value    0\n",
       "ocean_proximity       0\n",
       "dtype: int64"
      ]
     },
     "execution_count": 12,
     "metadata": {},
     "output_type": "execute_result"
    }
   ],
   "source": [
    "df = df.fillna(0)\n",
    "df.isnull().sum()"
   ]
  },
  {
   "cell_type": "code",
   "execution_count": 13,
   "id": "60574134",
   "metadata": {},
   "outputs": [],
   "source": [
    "from sklearn.model_selection import train_test_split"
   ]
  },
  {
   "cell_type": "code",
   "execution_count": 16,
   "id": "93c1d3d7",
   "metadata": {},
   "outputs": [],
   "source": [
    "df_full_train, df_test = train_test_split(df, test_size=0.2, random_state=1)\n",
    "df_train, df_val = train_test_split(df_full_train, test_size=0.25, random_state=1)\n",
    "\n",
    "y_train = np.log1p(df_train.median_house_value.values)\n",
    "y_val = np.log1p(df_val.median_house_value.values)\n",
    "y_test = np.log1p(df_test.median_house_value.values)\n",
    "\n",
    "df_train = df_train.reset_index(drop=True)\n",
    "df_val = df_val.reset_index(drop=True)\n",
    "df_test = df_test.reset_index(drop=True)\n",
    "\n",
    "del df_train['median_house_value']\n",
    "del df_val['median_house_value']\n",
    "del df_test['median_house_value']"
   ]
  },
  {
   "cell_type": "code",
   "execution_count": 20,
   "id": "fe1a2419",
   "metadata": {},
   "outputs": [],
   "source": [
    "from sklearn.feature_extraction import DictVectorizer"
   ]
  },
  {
   "cell_type": "code",
   "execution_count": 21,
   "id": "8afb85e2",
   "metadata": {},
   "outputs": [],
   "source": [
    "train_dicts = df_train.to_dict(orient='records')\n",
    "dv = DictVectorizer(sparse=True)\n",
    "X_train = dv.fit_transform(train_dicts)\n",
    "\n",
    "val_dicts = df_val.to_dict(orient='records')\n",
    "X_val = dv.transform(val_dicts)"
   ]
  },
  {
   "cell_type": "code",
   "execution_count": 25,
   "id": "93284600",
   "metadata": {},
   "outputs": [],
   "source": [
    "from sklearn.tree import DecisionTreeRegressor\n",
    "from sklearn.metrics import roc_auc_score\n",
    "from sklearn.tree import export_text"
   ]
  },
  {
   "cell_type": "code",
   "execution_count": 26,
   "id": "04964b0b",
   "metadata": {},
   "outputs": [
    {
     "data": {
      "text/html": [
       "<style>#sk-container-id-1 {color: black;}#sk-container-id-1 pre{padding: 0;}#sk-container-id-1 div.sk-toggleable {background-color: white;}#sk-container-id-1 label.sk-toggleable__label {cursor: pointer;display: block;width: 100%;margin-bottom: 0;padding: 0.3em;box-sizing: border-box;text-align: center;}#sk-container-id-1 label.sk-toggleable__label-arrow:before {content: \"▸\";float: left;margin-right: 0.25em;color: #696969;}#sk-container-id-1 label.sk-toggleable__label-arrow:hover:before {color: black;}#sk-container-id-1 div.sk-estimator:hover label.sk-toggleable__label-arrow:before {color: black;}#sk-container-id-1 div.sk-toggleable__content {max-height: 0;max-width: 0;overflow: hidden;text-align: left;background-color: #f0f8ff;}#sk-container-id-1 div.sk-toggleable__content pre {margin: 0.2em;color: black;border-radius: 0.25em;background-color: #f0f8ff;}#sk-container-id-1 input.sk-toggleable__control:checked~div.sk-toggleable__content {max-height: 200px;max-width: 100%;overflow: auto;}#sk-container-id-1 input.sk-toggleable__control:checked~label.sk-toggleable__label-arrow:before {content: \"▾\";}#sk-container-id-1 div.sk-estimator input.sk-toggleable__control:checked~label.sk-toggleable__label {background-color: #d4ebff;}#sk-container-id-1 div.sk-label input.sk-toggleable__control:checked~label.sk-toggleable__label {background-color: #d4ebff;}#sk-container-id-1 input.sk-hidden--visually {border: 0;clip: rect(1px 1px 1px 1px);clip: rect(1px, 1px, 1px, 1px);height: 1px;margin: -1px;overflow: hidden;padding: 0;position: absolute;width: 1px;}#sk-container-id-1 div.sk-estimator {font-family: monospace;background-color: #f0f8ff;border: 1px dotted black;border-radius: 0.25em;box-sizing: border-box;margin-bottom: 0.5em;}#sk-container-id-1 div.sk-estimator:hover {background-color: #d4ebff;}#sk-container-id-1 div.sk-parallel-item::after {content: \"\";width: 100%;border-bottom: 1px solid gray;flex-grow: 1;}#sk-container-id-1 div.sk-label:hover label.sk-toggleable__label {background-color: #d4ebff;}#sk-container-id-1 div.sk-serial::before {content: \"\";position: absolute;border-left: 1px solid gray;box-sizing: border-box;top: 0;bottom: 0;left: 50%;z-index: 0;}#sk-container-id-1 div.sk-serial {display: flex;flex-direction: column;align-items: center;background-color: white;padding-right: 0.2em;padding-left: 0.2em;position: relative;}#sk-container-id-1 div.sk-item {position: relative;z-index: 1;}#sk-container-id-1 div.sk-parallel {display: flex;align-items: stretch;justify-content: center;background-color: white;position: relative;}#sk-container-id-1 div.sk-item::before, #sk-container-id-1 div.sk-parallel-item::before {content: \"\";position: absolute;border-left: 1px solid gray;box-sizing: border-box;top: 0;bottom: 0;left: 50%;z-index: -1;}#sk-container-id-1 div.sk-parallel-item {display: flex;flex-direction: column;z-index: 1;position: relative;background-color: white;}#sk-container-id-1 div.sk-parallel-item:first-child::after {align-self: flex-end;width: 50%;}#sk-container-id-1 div.sk-parallel-item:last-child::after {align-self: flex-start;width: 50%;}#sk-container-id-1 div.sk-parallel-item:only-child::after {width: 0;}#sk-container-id-1 div.sk-dashed-wrapped {border: 1px dashed gray;margin: 0 0.4em 0.5em 0.4em;box-sizing: border-box;padding-bottom: 0.4em;background-color: white;}#sk-container-id-1 div.sk-label label {font-family: monospace;font-weight: bold;display: inline-block;line-height: 1.2em;}#sk-container-id-1 div.sk-label-container {text-align: center;}#sk-container-id-1 div.sk-container {/* jupyter's `normalize.less` sets `[hidden] { display: none; }` but bootstrap.min.css set `[hidden] { display: none !important; }` so we also need the `!important` here to be able to override the default hidden behavior on the sphinx rendered scikit-learn.org. See: https://github.com/scikit-learn/scikit-learn/issues/21755 */display: inline-block !important;position: relative;}#sk-container-id-1 div.sk-text-repr-fallback {display: none;}</style><div id=\"sk-container-id-1\" class=\"sk-top-container\"><div class=\"sk-text-repr-fallback\"><pre>DecisionTreeRegressor(max_depth=1)</pre><b>In a Jupyter environment, please rerun this cell to show the HTML representation or trust the notebook. <br />On GitHub, the HTML representation is unable to render, please try loading this page with nbviewer.org.</b></div><div class=\"sk-container\" hidden><div class=\"sk-item\"><div class=\"sk-estimator sk-toggleable\"><input class=\"sk-toggleable__control sk-hidden--visually\" id=\"sk-estimator-id-1\" type=\"checkbox\" checked><label for=\"sk-estimator-id-1\" class=\"sk-toggleable__label sk-toggleable__label-arrow\">DecisionTreeRegressor</label><div class=\"sk-toggleable__content\"><pre>DecisionTreeRegressor(max_depth=1)</pre></div></div></div></div></div>"
      ],
      "text/plain": [
       "DecisionTreeRegressor(max_depth=1)"
      ]
     },
     "execution_count": 26,
     "metadata": {},
     "output_type": "execute_result"
    }
   ],
   "source": [
    "tree = DecisionTreeRegressor(max_depth=1)\n",
    "tree.fit(X_train, y_train)"
   ]
  },
  {
   "cell_type": "code",
   "execution_count": 28,
   "id": "96ba7c87",
   "metadata": {},
   "outputs": [
    {
     "name": "stdout",
     "output_type": "stream",
     "text": [
      "|--- ocean_proximity=<1H OCEAN <= 0.50\n",
      "|   |--- value: [11.61]\n",
      "|--- ocean_proximity=<1H OCEAN >  0.50\n",
      "|   |--- value: [12.30]\n",
      "\n"
     ]
    }
   ],
   "source": [
    "print(export_text(tree, feature_names=list(dv.get_feature_names_out())))"
   ]
  },
  {
   "cell_type": "code",
   "execution_count": 34,
   "id": "3b05737d",
   "metadata": {},
   "outputs": [],
   "source": [
    "from sklearn.ensemble import RandomForestRegressor\n",
    "from sklearn.metrics import mean_squared_error"
   ]
  },
  {
   "cell_type": "code",
   "execution_count": 36,
   "id": "d3cde9dd",
   "metadata": {},
   "outputs": [
    {
     "data": {
      "text/plain": [
       "0.24527740463893766"
      ]
     },
     "execution_count": 36,
     "metadata": {},
     "output_type": "execute_result"
    }
   ],
   "source": [
    "rf = RandomForestRegressor(n_estimators=10, random_state=1, n_jobs=-1)\n",
    "rf.fit(X_train, y_train)\n",
    "\n",
    "res = rf.predict(X_val)\n",
    "score = mean_squared_error(res, y_val, squared=False)\n",
    "score"
   ]
  },
  {
   "cell_type": "code",
   "execution_count": 39,
   "id": "13a83c85",
   "metadata": {},
   "outputs": [],
   "source": [
    "from tqdm.auto import tqdm"
   ]
  },
  {
   "cell_type": "code",
   "execution_count": 42,
   "id": "b443a385",
   "metadata": {},
   "outputs": [
    {
     "data": {
      "application/vnd.jupyter.widget-view+json": {
       "model_id": "9ad005e51e934fbfb56c7b7396072fc3",
       "version_major": 2,
       "version_minor": 0
      },
      "text/plain": [
       "  0%|          | 0/20 [00:00<?, ?it/s]"
      ]
     },
     "metadata": {},
     "output_type": "display_data"
    }
   ],
   "source": [
    "scores = []\n",
    "estimators = range(10, 201, 10)\n",
    "\n",
    "for e in tqdm(estimators):\n",
    "    rf = RandomForestRegressor(n_estimators=e, random_state=1, n_jobs=-1)\n",
    "    rf.fit(X_train, y_train)\n",
    "    \n",
    "    y_pred = rf.predict(X_val)\n",
    "    score = np.sqrt(mean_squared_error(y_val, y_pred))\n",
    "    \n",
    "    scores.append((e, score))"
   ]
  },
  {
   "cell_type": "code",
   "execution_count": 43,
   "id": "0333694e",
   "metadata": {},
   "outputs": [
    {
     "data": {
      "text/html": [
       "<div>\n",
       "<style scoped>\n",
       "    .dataframe tbody tr th:only-of-type {\n",
       "        vertical-align: middle;\n",
       "    }\n",
       "\n",
       "    .dataframe tbody tr th {\n",
       "        vertical-align: top;\n",
       "    }\n",
       "\n",
       "    .dataframe thead th {\n",
       "        text-align: right;\n",
       "    }\n",
       "</style>\n",
       "<table border=\"1\" class=\"dataframe\">\n",
       "  <thead>\n",
       "    <tr style=\"text-align: right;\">\n",
       "      <th></th>\n",
       "      <th>n_estimators</th>\n",
       "      <th>score</th>\n",
       "    </tr>\n",
       "  </thead>\n",
       "  <tbody>\n",
       "    <tr>\n",
       "      <th>0</th>\n",
       "      <td>10</td>\n",
       "      <td>0.245277</td>\n",
       "    </tr>\n",
       "    <tr>\n",
       "      <th>1</th>\n",
       "      <td>20</td>\n",
       "      <td>0.239041</td>\n",
       "    </tr>\n",
       "    <tr>\n",
       "      <th>2</th>\n",
       "      <td>30</td>\n",
       "      <td>0.236995</td>\n",
       "    </tr>\n",
       "    <tr>\n",
       "      <th>3</th>\n",
       "      <td>40</td>\n",
       "      <td>0.235509</td>\n",
       "    </tr>\n",
       "    <tr>\n",
       "      <th>4</th>\n",
       "      <td>50</td>\n",
       "      <td>0.235021</td>\n",
       "    </tr>\n",
       "  </tbody>\n",
       "</table>\n",
       "</div>"
      ],
      "text/plain": [
       "   n_estimators     score\n",
       "0            10  0.245277\n",
       "1            20  0.239041\n",
       "2            30  0.236995\n",
       "3            40  0.235509\n",
       "4            50  0.235021"
      ]
     },
     "execution_count": 43,
     "metadata": {},
     "output_type": "execute_result"
    }
   ],
   "source": [
    "columns = ['n_estimators', 'score']\n",
    "df_scores = pd.DataFrame(scores, columns=columns)\n",
    "df_scores.head()"
   ]
  },
  {
   "cell_type": "code",
   "execution_count": 47,
   "id": "b15d68fd",
   "metadata": {},
   "outputs": [
    {
     "data": {
      "text/plain": [
       "<matplotlib.legend.Legend at 0x27028db1f90>"
      ]
     },
     "execution_count": 47,
     "metadata": {},
     "output_type": "execute_result"
    },
    {
     "data": {
      "image/png": "[encoded data removed]",
      "text/plain": [
       "<Figure size 640x480 with 1 Axes>"
      ]
     },
     "metadata": {},
     "output_type": "display_data"
    }
   ],
   "source": [
    "plt.plot(df_scores.n_estimators, df_scores.score, label='raw')\n",
    "plt.plot(df_scores.n_estimators, df_scores.score.round(3), label='rounded')\n",
    "plt.legend()"
   ]
  },
  {
   "cell_type": "code",
   "execution_count": 48,
   "id": "3f007959",
   "metadata": {},
   "outputs": [
    {
     "data": {
      "application/vnd.jupyter.widget-view+json": {
       "model_id": "6c890530bb104501ab7e4190d72db6a4",
       "version_major": 2,
       "version_minor": 0
      },
      "text/plain": [
       "  0%|          | 0/4 [00:00<?, ?it/s]"
      ]
     },
     "metadata": {},
     "output_type": "display_data"
    },
    {
     "data": {
      "application/vnd.jupyter.widget-view+json": {
       "model_id": "5fbc6e5d07b746dc81c7233091725d3d",
       "version_major": 2,
       "version_minor": 0
      },
      "text/plain": [
       "  0%|          | 0/20 [00:00<?, ?it/s]"
      ]
     },
     "metadata": {},
     "output_type": "display_data"
    },
    {
     "data": {
      "application/vnd.jupyter.widget-view+json": {
       "model_id": "f3a2a79df56c4d9b8ec7282e988edae8",
       "version_major": 2,
       "version_minor": 0
      },
      "text/plain": [
       "  0%|          | 0/20 [00:00<?, ?it/s]"
      ]
     },
     "metadata": {},
     "output_type": "display_data"
    },
    {
     "data": {
      "application/vnd.jupyter.widget-view+json": {
       "model_id": "d6cac81e360143ee9ff5e1ca26406b10",
       "version_major": 2,
       "version_minor": 0
      },
      "text/plain": [
       "  0%|          | 0/20 [00:00<?, ?it/s]"
      ]
     },
     "metadata": {},
     "output_type": "display_data"
    },
    {
     "data": {
      "application/vnd.jupyter.widget-view+json": {
       "model_id": "a16303bfb1e9420c95bd50bb306dec1e",
       "version_major": 2,
       "version_minor": 0
      },
      "text/plain": [
       "  0%|          | 0/20 [00:00<?, ?it/s]"
      ]
     },
     "metadata": {},
     "output_type": "display_data"
    }
   ],
   "source": [
    "scores = []\n",
    "max_depth = [10, 15, 20, 25]\n",
    "\n",
    "for d in tqdm(max_depth):\n",
    "    rf = RandomForestRegressor(n_estimators=0, max_depth=d, random_state=1, n_jobs=-1, warm_start=True)\n",
    "    \n",
    "    for n in tqdm(range(10, 201, 10)):\n",
    "        rf.n_estimators = n\n",
    "        rf.fit(X_train, y_train)\n",
    "\n",
    "        y_pred = rf.predict(X_val)\n",
    "        score = np.sqrt(mean_squared_error(y_val, y_pred))\n",
    "\n",
    "        scores.append((d, n, score))\n",
    "\n",
    "\n",
    "columns = ['max_depth', 'n_estimators', 'rmse']\n",
    "df_scores = pd.DataFrame(scores, columns=columns)"
   ]
  },
  {
   "cell_type": "code",
   "execution_count": 49,
   "id": "df2460d1",
   "metadata": {},
   "outputs": [
    {
     "data": {
      "text/plain": [
       "<matplotlib.legend.Legend at 0x27028e51240>"
      ]
     },
     "execution_count": 49,
     "metadata": {},
     "output_type": "execute_result"
    },
    {
     "data": {
      "image/png": "[encoded data removed]",
      "text/plain": [
       "<Figure size 640x480 with 1 Axes>"
      ]
     },
     "metadata": {},
     "output_type": "display_data"
    }
   ],
   "source": [
    "for d in max_depth:\n",
    "    df_subset = df_scores[df_scores['max_depth'] == d]\n",
    "    plt.plot(df_subset.n_estimators, df_subset.rmse, label=f'max_depth={d}')\n",
    "\n",
    "plt.legend()"
   ]
  },
  {
   "cell_type": "code",
   "execution_count": 53,
   "id": "1aacc70e",
   "metadata": {},
   "outputs": [
    {
     "data": {
      "text/html": [
       "<div>\n",
       "<style scoped>\n",
       "    .dataframe tbody tr th:only-of-type {\n",
       "        vertical-align: middle;\n",
       "    }\n",
       "\n",
       "    .dataframe tbody tr th {\n",
       "        vertical-align: top;\n",
       "    }\n",
       "\n",
       "    .dataframe thead th {\n",
       "        text-align: right;\n",
       "    }\n",
       "</style>\n",
       "<table border=\"1\" class=\"dataframe\">\n",
       "  <thead>\n",
       "    <tr style=\"text-align: right;\">\n",
       "      <th></th>\n",
       "      <th>feature_name</th>\n",
       "      <th>importance</th>\n",
       "    </tr>\n",
       "  </thead>\n",
       "  <tbody>\n",
       "    <tr>\n",
       "      <th>4</th>\n",
       "      <td>median_income</td>\n",
       "      <td>0.335611</td>\n",
       "    </tr>\n",
       "    <tr>\n",
       "      <th>5</th>\n",
       "      <td>ocean_proximity=&lt;1H OCEAN</td>\n",
       "      <td>0.292473</td>\n",
       "    </tr>\n",
       "    <tr>\n",
       "      <th>2</th>\n",
       "      <td>latitude</td>\n",
       "      <td>0.102007</td>\n",
       "    </tr>\n",
       "    <tr>\n",
       "      <th>3</th>\n",
       "      <td>longitude</td>\n",
       "      <td>0.086244</td>\n",
       "    </tr>\n",
       "    <tr>\n",
       "      <th>6</th>\n",
       "      <td>ocean_proximity=INLAND</td>\n",
       "      <td>0.073806</td>\n",
       "    </tr>\n",
       "    <tr>\n",
       "      <th>1</th>\n",
       "      <td>housing_median_age</td>\n",
       "      <td>0.030317</td>\n",
       "    </tr>\n",
       "    <tr>\n",
       "      <th>7</th>\n",
       "      <td>population</td>\n",
       "      <td>0.027136</td>\n",
       "    </tr>\n",
       "    <tr>\n",
       "      <th>9</th>\n",
       "      <td>total_rooms</td>\n",
       "      <td>0.021417</td>\n",
       "    </tr>\n",
       "    <tr>\n",
       "      <th>8</th>\n",
       "      <td>total_bedrooms</td>\n",
       "      <td>0.015852</td>\n",
       "    </tr>\n",
       "    <tr>\n",
       "      <th>0</th>\n",
       "      <td>households</td>\n",
       "      <td>0.015136</td>\n",
       "    </tr>\n",
       "  </tbody>\n",
       "</table>\n",
       "</div>"
      ],
      "text/plain": [
       "                feature_name  importance\n",
       "4              median_income    0.335611\n",
       "5  ocean_proximity=<1H OCEAN    0.292473\n",
       "2                   latitude    0.102007\n",
       "3                  longitude    0.086244\n",
       "6     ocean_proximity=INLAND    0.073806\n",
       "1         housing_median_age    0.030317\n",
       "7                 population    0.027136\n",
       "9                total_rooms    0.021417\n",
       "8             total_bedrooms    0.015852\n",
       "0                 households    0.015136"
      ]
     },
     "execution_count": 53,
     "metadata": {},
     "output_type": "execute_result"
    }
   ],
   "source": [
    "rf = RandomForestRegressor(n_estimators=10, max_depth=20, random_state=1, n_jobs=-1, warm_start=True)\n",
    "rf.fit(X_train, y_train)\n",
    "\n",
    "df_importances = pd.DataFrame()\n",
    "df_importances['feature_name'] = dv.feature_names_\n",
    "df_importances['importance'] = rf.feature_importances_\n",
    "\n",
    "df_importances.sort_values(by='importance', ascending=False)"
   ]
  },
  {
   "cell_type": "code",
   "execution_count": 54,
   "id": "ab18b849",
   "metadata": {},
   "outputs": [
    {
     "name": "stdout",
     "output_type": "stream",
     "text": [
      "Collecting xgboost\n",
      "  Downloading xgboost-2.0.3-py3-none-win_amd64.whl.metadata (2.0 kB)\n",
      "Requirement already satisfied: numpy in c:\\python\\lib\\site-packages (from xgboost) (1.24.1)\n",
      "Requirement already satisfied: scipy in c:\\python\\lib\\site-packages (from xgboost) (1.10.1)\n",
      "Downloading xgboost-2.0.3-py3-none-win_amd64.whl (99.8 MB)\n",
      "   ---------------------------------------- 0.0/99.8 MB ? eta -:--:--\n",
      "   ---------------------------------------- 0.4/99.8 MB 7.6 MB/s eta 0:00:14\n",
      "   ---------------------------------------- 0.8/99.8 MB 8.2 MB/s eta 0:00:13\n",
      "   ---------------------------------------- 1.2/99.8 MB 8.4 MB/s eta 0:00:12\n",
      "    --------------------------------------- 1.7/99.8 MB 8.9 MB/s eta 0:00:12\n",
      "    --------------------------------------- 2.2/99.8 MB 9.2 MB/s eta 0:00:11\n",
      "   - -------------------------------------- 2.6/99.8 MB 9.7 MB/s eta 0:00:11\n",
      "   - -------------------------------------- 3.1/99.8 MB 9.4 MB/s eta 0:00:11\n",
      "   - -------------------------------------- 3.5/99.8 MB 9.4 MB/s eta 0:00:11\n",
      "   - -------------------------------------- 4.0/99.8 MB 9.4 MB/s eta 0:00:11\n",
      "   - -------------------------------------- 4.4/99.8 MB 9.4 MB/s eta 0:00:11\n",
      "   - -------------------------------------- 4.9/99.8 MB 9.7 MB/s eta 0:00:10\n",
      "   -- ------------------------------------- 5.3/99.8 MB 9.7 MB/s eta 0:00:10\n",
      "   -- ------------------------------------- 5.8/99.8 MB 9.7 MB/s eta 0:00:10\n",
      "   -- ------------------------------------- 6.2/99.8 MB 9.7 MB/s eta 0:00:10\n",
      "   -- ------------------------------------- 6.6/99.8 MB 9.6 MB/s eta 0:00:10\n",
      "   -- ------------------------------------- 7.1/99.8 MB 9.6 MB/s eta 0:00:10\n",
      "   --- ------------------------------------ 7.5/99.8 MB 9.6 MB/s eta 0:00:10\n",
      "   --- ------------------------------------ 8.0/99.8 MB 9.6 MB/s eta 0:00:10\n",
      "   --- ------------------------------------ 8.4/99.8 MB 9.6 MB/s eta 0:00:10\n",
      "   --- ------------------------------------ 8.9/99.8 MB 9.7 MB/s eta 0:00:10\n",
      "   --- ------------------------------------ 9.3/99.8 MB 9.6 MB/s eta 0:00:10\n",
      "   --- ------------------------------------ 9.9/99.8 MB 9.7 MB/s eta 0:00:10\n",
      "   ---- ----------------------------------- 10.4/99.8 MB 9.8 MB/s eta 0:00:10\n",
      "   ---- ----------------------------------- 10.8/99.8 MB 9.9 MB/s eta 0:00:09\n",
      "   ---- ----------------------------------- 11.3/99.8 MB 9.9 MB/s eta 0:00:09\n",
      "   ---- ----------------------------------- 11.8/99.8 MB 9.9 MB/s eta 0:00:09\n",
      "   ---- ----------------------------------- 12.3/99.8 MB 9.9 MB/s eta 0:00:09\n",
      "   ----- ---------------------------------- 12.7/99.8 MB 9.9 MB/s eta 0:00:09\n",
      "   ----- ---------------------------------- 13.1/99.8 MB 9.8 MB/s eta 0:00:09\n",
      "   ----- ---------------------------------- 13.4/99.8 MB 9.8 MB/s eta 0:00:09\n",
      "   ----- ---------------------------------- 13.8/99.8 MB 9.8 MB/s eta 0:00:09\n",
      "   ----- ---------------------------------- 14.2/99.8 MB 9.6 MB/s eta 0:00:09\n",
      "   ----- ---------------------------------- 14.7/99.8 MB 9.8 MB/s eta 0:00:09\n",
      "   ------ --------------------------------- 15.1/99.8 MB 9.6 MB/s eta 0:00:09\n",
      "   ------ --------------------------------- 15.5/99.8 MB 9.6 MB/s eta 0:00:09\n",
      "   ------ --------------------------------- 15.9/99.8 MB 9.6 MB/s eta 0:00:09\n",
      "   ------ --------------------------------- 16.2/99.8 MB 9.5 MB/s eta 0:00:09\n",
      "   ------ --------------------------------- 16.6/99.8 MB 9.5 MB/s eta 0:00:09\n",
      "   ------ --------------------------------- 17.0/99.8 MB 9.4 MB/s eta 0:00:09\n",
      "   ------ --------------------------------- 17.4/99.8 MB 9.4 MB/s eta 0:00:09\n",
      "   ------- -------------------------------- 17.8/99.8 MB 9.4 MB/s eta 0:00:09\n",
      "   ------- -------------------------------- 18.2/99.8 MB 9.2 MB/s eta 0:00:09\n",
      "   ------- -------------------------------- 18.6/99.8 MB 9.2 MB/s eta 0:00:09\n",
      "   ------- -------------------------------- 19.0/99.8 MB 9.2 MB/s eta 0:00:09\n",
      "   ------- -------------------------------- 19.4/99.8 MB 9.1 MB/s eta 0:00:09\n",
      "   ------- -------------------------------- 19.8/99.8 MB 9.0 MB/s eta 0:00:09\n",
      "   -------- ------------------------------- 20.2/99.8 MB 9.0 MB/s eta 0:00:09\n",
      "   -------- ------------------------------- 20.6/99.8 MB 9.0 MB/s eta 0:00:09\n",
      "   -------- ------------------------------- 21.0/99.8 MB 9.0 MB/s eta 0:00:09\n",
      "   -------- ------------------------------- 21.5/99.8 MB 8.8 MB/s eta 0:00:09\n",
      "   -------- ------------------------------- 22.0/99.8 MB 8.8 MB/s eta 0:00:09\n",
      "   --------- ------------------------------ 22.5/99.8 MB 9.0 MB/s eta 0:00:09\n",
      "   --------- ------------------------------ 22.9/99.8 MB 9.0 MB/s eta 0:00:09\n",
      "   --------- ------------------------------ 23.4/99.8 MB 9.0 MB/s eta 0:00:09\n",
      "   --------- ------------------------------ 23.8/99.8 MB 9.1 MB/s eta 0:00:09\n",
      "   --------- ------------------------------ 24.3/99.8 MB 9.1 MB/s eta 0:00:09\n",
      "   --------- ------------------------------ 24.8/99.8 MB 9.2 MB/s eta 0:00:09\n",
      "   ---------- ----------------------------- 25.2/99.8 MB 9.2 MB/s eta 0:00:09\n",
      "   ---------- ----------------------------- 25.7/99.8 MB 9.2 MB/s eta 0:00:09\n",
      "   ---------- ----------------------------- 26.1/99.8 MB 9.2 MB/s eta 0:00:08\n",
      "   ---------- ----------------------------- 26.6/99.8 MB 9.5 MB/s eta 0:00:08\n",
      "   ---------- ----------------------------- 27.0/99.8 MB 9.5 MB/s eta 0:00:08\n",
      "   ----------- ---------------------------- 27.6/99.8 MB 9.5 MB/s eta 0:00:08\n",
      "   ----------- ---------------------------- 28.1/99.8 MB 9.6 MB/s eta 0:00:08\n",
      "   ----------- ---------------------------- 28.6/99.8 MB 9.8 MB/s eta 0:00:08\n",
      "   ----------- ---------------------------- 29.0/99.8 MB 9.9 MB/s eta 0:00:08\n",
      "   ----------- ---------------------------- 29.5/99.8 MB 9.9 MB/s eta 0:00:08\n",
      "   ------------ --------------------------- 30.1/99.8 MB 10.1 MB/s eta 0:00:07\n",
      "   ------------ --------------------------- 30.5/99.8 MB 10.1 MB/s eta 0:00:07\n",
      "   ------------ --------------------------- 31.0/99.8 MB 10.2 MB/s eta 0:00:07\n",
      "   ------------ --------------------------- 31.5/99.8 MB 10.2 MB/s eta 0:00:07\n",
      "   ------------ --------------------------- 32.0/99.8 MB 10.4 MB/s eta 0:00:07\n",
      "   ------------- -------------------------- 32.5/99.8 MB 10.2 MB/s eta 0:00:07\n",
      "   ------------- -------------------------- 33.0/99.8 MB 10.4 MB/s eta 0:00:07\n",
      "   ------------- -------------------------- 33.5/99.8 MB 10.4 MB/s eta 0:00:07\n",
      "   ------------- -------------------------- 34.0/99.8 MB 10.4 MB/s eta 0:00:07\n",
      "   ------------- -------------------------- 34.4/99.8 MB 10.6 MB/s eta 0:00:07\n",
      "   -------------- ------------------------- 34.9/99.8 MB 10.6 MB/s eta 0:00:07\n",
      "   -------------- ------------------------- 35.5/99.8 MB 10.6 MB/s eta 0:00:07\n",
      "   -------------- ------------------------- 35.9/99.8 MB 10.6 MB/s eta 0:00:07\n",
      "   -------------- ------------------------- 36.4/99.8 MB 10.6 MB/s eta 0:00:06\n",
      "   -------------- ------------------------- 36.9/99.8 MB 10.6 MB/s eta 0:00:06\n",
      "   --------------- ------------------------ 37.4/99.8 MB 10.6 MB/s eta 0:00:06\n",
      "   --------------- ------------------------ 37.9/99.8 MB 10.6 MB/s eta 0:00:06\n",
      "   --------------- ------------------------ 38.4/99.8 MB 10.6 MB/s eta 0:00:06\n",
      "   --------------- ------------------------ 38.9/99.8 MB 10.6 MB/s eta 0:00:06\n",
      "   --------------- ------------------------ 39.4/99.8 MB 10.6 MB/s eta 0:00:06\n",
      "   --------------- ------------------------ 39.9/99.8 MB 10.6 MB/s eta 0:00:06\n",
      "   ---------------- ----------------------- 40.4/99.8 MB 10.6 MB/s eta 0:00:06\n",
      "   ---------------- ----------------------- 40.9/99.8 MB 10.7 MB/s eta 0:00:06\n",
      "   ---------------- ----------------------- 41.3/99.8 MB 10.6 MB/s eta 0:00:06\n",
      "   ---------------- ----------------------- 41.8/99.8 MB 10.7 MB/s eta 0:00:06\n",
      "   ---------------- ----------------------- 42.3/99.8 MB 10.7 MB/s eta 0:00:06\n",
      "   ----------------- ---------------------- 42.7/99.8 MB 10.6 MB/s eta 0:00:06\n",
      "   ----------------- ---------------------- 43.2/99.8 MB 10.6 MB/s eta 0:00:06\n",
      "   ----------------- ---------------------- 43.7/99.8 MB 10.7 MB/s eta 0:00:06\n",
      "   ----------------- ---------------------- 44.1/99.8 MB 10.6 MB/s eta 0:00:06\n",
      "   ----------------- ---------------------- 44.6/99.8 MB 10.6 MB/s eta 0:00:06\n",
      "   ------------------ --------------------- 45.1/99.8 MB 10.4 MB/s eta 0:00:06\n",
      "   ------------------ --------------------- 45.5/99.8 MB 10.4 MB/s eta 0:00:06\n",
      "   ------------------ --------------------- 45.9/99.8 MB 10.4 MB/s eta 0:00:06\n",
      "   ------------------ --------------------- 46.4/99.8 MB 10.2 MB/s eta 0:00:06\n",
      "   ------------------ --------------------- 46.9/99.8 MB 10.2 MB/s eta 0:00:06\n",
      "   ------------------ --------------------- 47.3/99.8 MB 10.2 MB/s eta 0:00:06\n",
      "   ------------------- -------------------- 47.8/99.8 MB 10.2 MB/s eta 0:00:06\n",
      "   ------------------- -------------------- 48.2/99.8 MB 10.1 MB/s eta 0:00:06\n",
      "   ------------------- -------------------- 48.7/99.8 MB 10.2 MB/s eta 0:00:05\n",
      "   ------------------- -------------------- 49.2/99.8 MB 10.1 MB/s eta 0:00:06\n",
      "   ------------------- -------------------- 49.7/99.8 MB 10.1 MB/s eta 0:00:05\n",
      "   -------------------- ------------------- 50.1/99.8 MB 10.1 MB/s eta 0:00:05\n",
      "   -------------------- ------------------- 50.5/99.8 MB 9.9 MB/s eta 0:00:05\n",
      "   -------------------- ------------------- 51.0/99.8 MB 9.9 MB/s eta 0:00:05\n",
      "   -------------------- ------------------- 51.5/99.8 MB 9.9 MB/s eta 0:00:05\n",
      "   -------------------- ------------------- 52.0/99.8 MB 9.9 MB/s eta 0:00:05\n",
      "   --------------------- ------------------ 52.5/99.8 MB 9.9 MB/s eta 0:00:05\n",
      "   --------------------- ------------------ 53.0/99.8 MB 10.1 MB/s eta 0:00:05\n",
      "   --------------------- ------------------ 53.4/99.8 MB 10.1 MB/s eta 0:00:05\n",
      "   --------------------- ------------------ 53.9/99.8 MB 10.1 MB/s eta 0:00:05\n",
      "   --------------------- ------------------ 54.4/99.8 MB 10.1 MB/s eta 0:00:05\n",
      "   --------------------- ------------------ 54.9/99.8 MB 10.2 MB/s eta 0:00:05\n",
      "   ---------------------- ----------------- 55.4/99.8 MB 10.2 MB/s eta 0:00:05\n",
      "   ---------------------- ----------------- 55.8/99.8 MB 10.2 MB/s eta 0:00:05\n",
      "   ---------------------- ----------------- 56.3/99.8 MB 10.2 MB/s eta 0:00:05\n",
      "   ---------------------- ----------------- 56.8/99.8 MB 10.2 MB/s eta 0:00:05\n",
      "   ---------------------- ----------------- 57.2/99.8 MB 10.2 MB/s eta 0:00:05\n",
      "   ----------------------- ---------------- 57.6/99.8 MB 10.1 MB/s eta 0:00:05\n",
      "   ----------------------- ---------------- 58.1/99.8 MB 10.1 MB/s eta 0:00:05\n",
      "   ----------------------- ---------------- 58.6/99.8 MB 10.2 MB/s eta 0:00:05\n",
      "   ----------------------- ---------------- 59.0/99.8 MB 10.1 MB/s eta 0:00:05\n",
      "   ----------------------- ---------------- 59.5/99.8 MB 10.1 MB/s eta 0:00:04\n",
      "   ------------------------ --------------- 60.0/99.8 MB 10.1 MB/s eta 0:00:04\n",
      "   ------------------------ --------------- 60.5/99.8 MB 10.2 MB/s eta 0:00:04\n",
      "   ------------------------ --------------- 60.9/99.8 MB 10.2 MB/s eta 0:00:04\n",
      "   ------------------------ --------------- 61.4/99.8 MB 10.2 MB/s eta 0:00:04\n",
      "   ------------------------ --------------- 61.9/99.8 MB 10.2 MB/s eta 0:00:04\n",
      "   ------------------------- -------------- 62.4/99.8 MB 10.2 MB/s eta 0:00:04\n",
      "   ------------------------- -------------- 62.8/99.8 MB 10.2 MB/s eta 0:00:04\n",
      "   ------------------------- -------------- 63.3/99.8 MB 10.2 MB/s eta 0:00:04\n",
      "   ------------------------- -------------- 63.8/99.8 MB 10.4 MB/s eta 0:00:04\n",
      "   ------------------------- -------------- 64.4/99.8 MB 10.4 MB/s eta 0:00:04\n",
      "   ------------------------- -------------- 64.8/99.8 MB 10.4 MB/s eta 0:00:04\n",
      "   -------------------------- ------------- 65.3/99.8 MB 10.4 MB/s eta 0:00:04\n",
      "   -------------------------- ------------- 65.8/99.8 MB 10.4 MB/s eta 0:00:04\n",
      "   -------------------------- ------------- 66.3/99.8 MB 10.4 MB/s eta 0:00:04\n",
      "   -------------------------- ------------- 66.8/99.8 MB 10.4 MB/s eta 0:00:04\n",
      "   -------------------------- ------------- 67.3/99.8 MB 10.4 MB/s eta 0:00:04\n",
      "   --------------------------- ------------ 67.7/99.8 MB 10.4 MB/s eta 0:00:04\n",
      "   --------------------------- ------------ 68.1/99.8 MB 10.4 MB/s eta 0:00:04\n",
      "   --------------------------- ------------ 68.5/99.8 MB 10.2 MB/s eta 0:00:04\n",
      "   --------------------------- ------------ 69.0/99.8 MB 10.2 MB/s eta 0:00:04\n",
      "   --------------------------- ------------ 69.5/99.8 MB 10.2 MB/s eta 0:00:03\n",
      "   ---------------------------- ----------- 69.9/99.8 MB 10.2 MB/s eta 0:00:03\n",
      "   ---------------------------- ----------- 70.4/99.8 MB 10.2 MB/s eta 0:00:03\n",
      "   ---------------------------- ----------- 71.0/99.8 MB 10.4 MB/s eta 0:00:03\n",
      "   ---------------------------- ----------- 71.4/99.8 MB 10.4 MB/s eta 0:00:03\n",
      "   ---------------------------- ----------- 72.0/99.8 MB 10.6 MB/s eta 0:00:03\n",
      "   ----------------------------- ---------- 72.5/99.8 MB 10.6 MB/s eta 0:00:03\n",
      "   ----------------------------- ---------- 72.9/99.8 MB 10.6 MB/s eta 0:00:03\n",
      "   ----------------------------- ---------- 73.5/99.8 MB 10.6 MB/s eta 0:00:03\n",
      "   ----------------------------- ---------- 74.0/99.8 MB 10.4 MB/s eta 0:00:03\n",
      "   ----------------------------- ---------- 74.5/99.8 MB 10.6 MB/s eta 0:00:03\n",
      "   ------------------------------ --------- 75.1/99.8 MB 10.7 MB/s eta 0:00:03\n",
      "   ------------------------------ --------- 75.6/99.8 MB 10.7 MB/s eta 0:00:03\n",
      "   ------------------------------ --------- 76.2/99.8 MB 10.7 MB/s eta 0:00:03\n",
      "   ------------------------------ --------- 76.7/99.8 MB 10.7 MB/s eta 0:00:03\n",
      "   ------------------------------ --------- 77.2/99.8 MB 10.7 MB/s eta 0:00:03\n",
      "   ------------------------------- -------- 77.6/99.8 MB 10.7 MB/s eta 0:00:03\n",
      "   ------------------------------- -------- 78.1/99.8 MB 10.9 MB/s eta 0:00:02\n",
      "   ------------------------------- -------- 78.7/99.8 MB 10.9 MB/s eta 0:00:02\n",
      "   ------------------------------- -------- 79.2/99.8 MB 10.9 MB/s eta 0:00:02\n",
      "   ------------------------------- -------- 79.6/99.8 MB 11.1 MB/s eta 0:00:02\n",
      "   -------------------------------- ------- 80.1/99.8 MB 10.9 MB/s eta 0:00:02\n",
      "   -------------------------------- ------- 80.6/99.8 MB 10.9 MB/s eta 0:00:02\n",
      "   -------------------------------- ------- 81.0/99.8 MB 10.9 MB/s eta 0:00:02\n",
      "   -------------------------------- ------- 81.4/99.8 MB 10.7 MB/s eta 0:00:02\n",
      "   -------------------------------- ------- 81.9/99.8 MB 10.9 MB/s eta 0:00:02\n",
      "   --------------------------------- ------ 82.4/99.8 MB 10.7 MB/s eta 0:00:02\n",
      "   --------------------------------- ------ 82.8/99.8 MB 10.7 MB/s eta 0:00:02\n",
      "   --------------------------------- ------ 83.3/99.8 MB 10.7 MB/s eta 0:00:02\n",
      "   --------------------------------- ------ 83.9/99.8 MB 10.7 MB/s eta 0:00:02\n",
      "   --------------------------------- ------ 84.4/99.8 MB 10.7 MB/s eta 0:00:02\n",
      "   ---------------------------------- ----- 85.0/99.8 MB 10.7 MB/s eta 0:00:02\n",
      "   ---------------------------------- ----- 85.5/99.8 MB 10.7 MB/s eta 0:00:02\n",
      "   ---------------------------------- ----- 86.0/99.8 MB 10.6 MB/s eta 0:00:02\n",
      "   ---------------------------------- ----- 86.6/99.8 MB 10.7 MB/s eta 0:00:02\n",
      "   ---------------------------------- ----- 87.1/99.8 MB 10.7 MB/s eta 0:00:02\n",
      "   ----------------------------------- ---- 87.5/99.8 MB 10.7 MB/s eta 0:00:02\n",
      "   ----------------------------------- ---- 87.9/99.8 MB 10.7 MB/s eta 0:00:02\n",
      "   ----------------------------------- ---- 88.4/99.8 MB 10.6 MB/s eta 0:00:02\n",
      "   ----------------------------------- ---- 88.8/99.8 MB 10.4 MB/s eta 0:00:02\n",
      "   ----------------------------------- ---- 89.3/99.8 MB 10.4 MB/s eta 0:00:02\n",
      "   ------------------------------------ --- 89.9/99.8 MB 10.6 MB/s eta 0:00:01\n",
      "   ------------------------------------ --- 90.4/99.8 MB 10.7 MB/s eta 0:00:01\n",
      "   ------------------------------------ --- 91.0/99.8 MB 10.7 MB/s eta 0:00:01\n",
      "   ------------------------------------ --- 91.5/99.8 MB 10.9 MB/s eta 0:00:01\n",
      "   ------------------------------------ --- 92.1/99.8 MB 10.9 MB/s eta 0:00:01\n",
      "   ------------------------------------- -- 92.6/99.8 MB 11.1 MB/s eta 0:00:01\n",
      "   ------------------------------------- -- 93.2/99.8 MB 11.1 MB/s eta 0:00:01\n",
      "   ------------------------------------- -- 93.7/99.8 MB 11.1 MB/s eta 0:00:01\n",
      "   ------------------------------------- -- 94.2/99.8 MB 11.3 MB/s eta 0:00:01\n",
      "   -------------------------------------- - 94.8/99.8 MB 11.3 MB/s eta 0:00:01\n",
      "   -------------------------------------- - 95.3/99.8 MB 11.1 MB/s eta 0:00:01\n",
      "   -------------------------------------- - 95.9/99.8 MB 11.1 MB/s eta 0:00:01\n",
      "   -------------------------------------- - 96.4/99.8 MB 11.1 MB/s eta 0:00:01\n",
      "   -------------------------------------- - 97.0/99.8 MB 11.3 MB/s eta 0:00:01\n",
      "   ---------------------------------------  97.5/99.8 MB 11.5 MB/s eta 0:00:01\n",
      "   ---------------------------------------  98.1/99.8 MB 11.7 MB/s eta 0:00:01\n",
      "   ---------------------------------------  98.6/99.8 MB 11.7 MB/s eta 0:00:01\n",
      "   ---------------------------------------  99.2/99.8 MB 11.9 MB/s eta 0:00:01\n",
      "   ---------------------------------------  99.7/99.8 MB 11.9 MB/s eta 0:00:01\n",
      "   ---------------------------------------  99.7/99.8 MB 11.7 MB/s eta 0:00:01\n",
      "   ---------------------------------------  99.7/99.8 MB 11.7 MB/s eta 0:00:01\n",
      "   ---------------------------------------  99.7/99.8 MB 11.7 MB/s eta 0:00:01\n",
      "   ---------------------------------------  99.7/99.8 MB 11.7 MB/s eta 0:00:01\n",
      "   ---------------------------------------  99.7/99.8 MB 11.7 MB/s eta 0:00:01\n",
      "   ---------------------------------------  99.7/99.8 MB 11.7 MB/s eta 0:00:01\n",
      "   ---------------------------------------  99.7/99.8 MB 11.7 MB/s eta 0:00:01\n",
      "   ---------------------------------------  99.7/99.8 MB 11.7 MB/s eta 0:00:01\n",
      "   ---------------------------------------  99.7/99.8 MB 11.7 MB/s eta 0:00:01\n",
      "   ---------------------------------------  99.7/99.8 MB 11.7 MB/s eta 0:00:01\n",
      "   ---------------------------------------  99.7/99.8 MB 11.7 MB/s eta 0:00:01\n",
      "   ---------------------------------------  99.7/99.8 MB 11.7 MB/s eta 0:00:01\n",
      "   ---------------------------------------  99.7/99.8 MB 11.7 MB/s eta 0:00:01\n",
      "   ---------------------------------------  99.7/99.8 MB 11.7 MB/s eta 0:00:01\n",
      "   ---------------------------------------- 99.8/99.8 MB 6.6 MB/s eta 0:00:00\n",
      "Installing collected packages: xgboost\n",
      "Successfully installed xgboost-2.0.3\n"
     ]
    },
    {
     "name": "stderr",
     "output_type": "stream",
     "text": [
      "\n",
      "[notice] A new release of pip is available: 23.3.1 -> 23.3.2\n",
      "[notice] To update, run: python.exe -m pip install --upgrade pip\n"
     ]
    }
   ],
   "source": [
    "!pip install xgboost"
   ]
  },
  {
   "cell_type": "code",
   "execution_count": 55,
   "id": "4c5fe5af",
   "metadata": {},
   "outputs": [],
   "source": [
    "import xgboost as xgb"
   ]
  },
  {
   "cell_type": "code",
   "execution_count": 59,
   "id": "34983aa0",
   "metadata": {},
   "outputs": [
    {
     "data": {
      "text/plain": [
       "['households',\n",
       " 'housing_median_age',\n",
       " 'latitude',\n",
       " 'longitude',\n",
       " 'median_income',\n",
       " 'ocean_proximity=LESS 1H OCEAN',\n",
       " 'ocean_proximity=INLAND',\n",
       " 'population',\n",
       " 'total_bedrooms',\n",
       " 'total_rooms']"
      ]
     },
     "execution_count": 59,
     "metadata": {},
     "output_type": "execute_result"
    }
   ],
   "source": [
    "features = [f.replace('<', 'LESS ') for f in list(dv.get_feature_names_out())]\n",
    "features"
   ]
  },
  {
   "cell_type": "code",
   "execution_count": 60,
   "id": "fffae8e8",
   "metadata": {},
   "outputs": [],
   "source": [
    "dtrain = xgb.DMatrix(X_train, label=y_train, feature_names=features)\n",
    "dval = xgb.DMatrix(X_val, label=y_val, feature_names=features)"
   ]
  },
  {
   "cell_type": "code",
   "execution_count": 61,
   "id": "a504673c",
   "metadata": {},
   "outputs": [],
   "source": [
    "watchlist = [(dtrain, 'train'), (dval, 'val')]\n",
    "scores = {}"
   ]
  },
  {
   "cell_type": "code",
   "execution_count": 70,
   "id": "ca3b03cf",
   "metadata": {},
   "outputs": [],
   "source": [
    "def parse_xgb_output(output):\n",
    "    results = []\n",
    "    \n",
    "    for line in output.stdout.strip().split('\\n'):\n",
    "        iteration_str, train_str, val_str = line.split('\\t')\n",
    "        iteration = int(iteration_str.strip('[]'))\n",
    "        train = float(train_str.split(\":\")[1])\n",
    "        val = float(val_str.split(\":\")[1])\n",
    "        \n",
    "        results.append((iteration, train, val))\n",
    "    \n",
    "    columns = ['iter', 'train', 'val']\n",
    "    df_progress = pd.DataFrame(results, columns=columns)\n",
    "    return df_progress"
   ]
  },
  {
   "cell_type": "code",
   "execution_count": 78,
   "id": "2d101fd0",
   "metadata": {},
   "outputs": [],
   "source": [
    "%%capture output_03\n",
    "\n",
    "xgb_params = {\n",
    "    'eta': 0.3, \n",
    "    'max_depth': 6,\n",
    "    'min_child_weight': 1,\n",
    "    \n",
    "    'objective': 'reg:squarederror',\n",
    "    'nthread': 8,\n",
    "    \n",
    "    'seed': 1,\n",
    "    'verbosity': 1,\n",
    "}\n",
    "\n",
    "model = xgb.train(params=xgb_params, dtrain=dtrain, num_boost_round=100, \n",
    "                  verbose_eval=5,\n",
    "                  evals=watchlist)"
   ]
  },
  {
   "cell_type": "code",
   "execution_count": 79,
   "id": "25749f49",
   "metadata": {},
   "outputs": [],
   "source": [
    "scores['eta=%s' % xgb_params['eta']] = parse_xgb_output(output_03)"
   ]
  },
  {
   "cell_type": "code",
   "execution_count": 80,
   "id": "cadc17f1",
   "metadata": {},
   "outputs": [],
   "source": [
    "%%capture output_01\n",
    "\n",
    "xgb_params = {\n",
    "    'eta': 0.1, \n",
    "    'max_depth': 6,\n",
    "    'min_child_weight': 1,\n",
    "    \n",
    "    'objective': 'reg:squarederror',\n",
    "    'nthread': 8,\n",
    "    \n",
    "    'seed': 1,\n",
    "    'verbosity': 1,\n",
    "}\n",
    "\n",
    "model = xgb.train(params=xgb_params, dtrain=dtrain, num_boost_round=100, \n",
    "                  verbose_eval=5,\n",
    "                  evals=watchlist)"
   ]
  },
  {
   "cell_type": "code",
   "execution_count": 81,
   "id": "dfde9e17",
   "metadata": {},
   "outputs": [],
   "source": [
    "scores['eta=%s' % xgb_params['eta']] = parse_xgb_output(output_01)"
   ]
  },
  {
   "cell_type": "code",
   "execution_count": 82,
   "id": "727d3b61",
   "metadata": {},
   "outputs": [
    {
     "data": {
      "text/plain": [
       "<matplotlib.legend.Legend at 0x27015a75840>"
      ]
     },
     "execution_count": 82,
     "metadata": {},
     "output_type": "execute_result"
    },
    {
     "data": {
      "image/png": "[encoded data removed]",
      "text/plain": [
       "<Figure size 640x480 with 1 Axes>"
      ]
     },
     "metadata": {},
     "output_type": "display_data"
    }
   ],
   "source": [
    "plt.plot(scores['eta=0.3'].iter, scores['eta=0.3'].val, label='eta=0.3')\n",
    "plt.plot(scores['eta=0.1'].iter, scores['eta=0.1'].val, label='eta=0.1')\n",
    "plt.legend()"
   ]
  }
 ],
 "metadata": {
  "kernelspec": {
   "display_name": "Python 3 (ipykernel)",
   "language": "python",
   "name": "python3"
  },
  "language_info": {
   "codemirror_mode": {
    "name": "ipython",
    "version": 3
   },
   "file_extension": ".py",
   "mimetype": "text/x-python",
   "name": "python",
   "nbconvert_exporter": "python",
   "pygments_lexer": "ipython3",
   "version": "3.10.4"
  }
 },
 "nbformat": 4,
 "nbformat_minor": 5
}
